{
  "nbformat": 4,
  "nbformat_minor": 0,
  "metadata": {
    "colab": {
      "name": "response spectrum pyrotd.ipynb",
      "provenance": [],
      "collapsed_sections": []
    },
    "kernelspec": {
      "name": "python3",
      "display_name": "Python 3"
    },
    "accelerator": "GPU"
  },
  "cells": [
    {
      "cell_type": "code",
      "metadata": {
        "id": "DABta4BqpSBa",
        "colab_type": "code",
        "colab": {
          "base_uri": "https://localhost:8080/",
          "height": 128
        },
        "outputId": "2341adfa-2ef7-4ecb-94c3-55ee58e0fdc2"
      },
      "source": [
        "from google.colab import drive\n",
        "drive.mount('/content/drive')"
      ],
      "execution_count": 13,
      "outputs": [
        {
          "output_type": "stream",
          "text": [
            "Go to this URL in a browser: https://accounts.google.com/o/oauth2/auth?client_id=947318989803-6bn6qk8qdgf4n4g3pfee6491hc0brc4i.apps.googleusercontent.com&redirect_uri=urn%3Aietf%3Awg%3Aoauth%3A2.0%3Aoob&scope=email%20https%3A%2F%2Fwww.googleapis.com%2Fauth%2Fdocs.test%20https%3A%2F%2Fwww.googleapis.com%2Fauth%2Fdrive%20https%3A%2F%2Fwww.googleapis.com%2Fauth%2Fdrive.photos.readonly%20https%3A%2F%2Fwww.googleapis.com%2Fauth%2Fpeopleapi.readonly&response_type=code\n",
            "\n",
            "Enter your authorization code:\n",
            "··········\n",
            "Mounted at /content/drive\n"
          ],
          "name": "stdout"
        }
      ]
    },
    {
      "cell_type": "code",
      "metadata": {
        "id": "g6xZPVYklOKK",
        "colab_type": "code",
        "colab": {
          "base_uri": "https://localhost:8080/",
          "height": 217
        },
        "outputId": "c1345f8c-e7ec-48e3-bae2-7fb25369478e"
      },
      "source": [
        " !pip install pyrotd"
      ],
      "execution_count": 7,
      "outputs": [
        {
          "output_type": "stream",
          "text": [
            "Collecting pyrotd\n",
            "  Downloading https://files.pythonhosted.org/packages/8f/88/384c8ca994a63e53f60eaf93336009ca052ed5193b663f0b5221d4903b11/pyrotd-0.5.4.tar.gz\n",
            "Requirement already satisfied: numpy in /usr/local/lib/python3.6/dist-packages (from pyrotd) (1.17.3)\n",
            "Requirement already satisfied: setuptools in /usr/local/lib/python3.6/dist-packages (from pyrotd) (41.4.0)\n",
            "Building wheels for collected packages: pyrotd\n",
            "  Building wheel for pyrotd (setup.py) ... \u001b[?25l\u001b[?25hdone\n",
            "  Created wheel for pyrotd: filename=pyrotd-0.5.4-py2.py3-none-any.whl size=7723 sha256=c425a81cf547ea688b2ea298f4d1a34627ae74d552d73095592e2895a71bb0a2\n",
            "  Stored in directory: /root/.cache/pip/wheels/af/43/cf/f3bac100ae061c2475c0187cf55ee0a041735410f5656b6c0c\n",
            "Successfully built pyrotd\n",
            "Installing collected packages: pyrotd\n",
            "Successfully installed pyrotd-0.5.4\n"
          ],
          "name": "stdout"
        }
      ]
    },
    {
      "cell_type": "code",
      "metadata": {
        "id": "0susCe28oKwW",
        "colab_type": "code",
        "colab": {
          "base_uri": "https://localhost:8080/",
          "height": 297
        },
        "outputId": "2ad0f510-8c1c-4bec-8efe-badd7421b607"
      },
      "source": [
        "import os\n",
        "\n",
        "import matplotlib.pyplot as plt\n",
        "import numpy as np\n",
        "\n",
        "import pyrotd\n",
        "pyrotd.processes = 1\n",
        "\n",
        "# Load the AT2 timeseries\n",
        "# download these sample files https://github.com/arkottke/pyrotd/tree/master/examples/data and upload them to your Drive\n",
        "fname = os.path.join('/content/drive/My Drive/course/RSN8883_14383980_13849090.AT2')\n",
        "fname\n",
        "with open(fname) as fp:\n",
        "    for _ in range(3):\n",
        "        next(fp)\n",
        "    line = next(fp)\n",
        "    time_step = float(line[17:25])\n",
        "    accels = np.array([p for l in fp for p in l.split()]).astype(float)\n",
        "accels\n",
        "# Compute the acceleration response spectrum\n",
        "osc_damping = 0.05\n",
        "osc_freqs = np.logspace(-1, 2, 91)\n",
        "resp_spec = pyrotd.calc_spec_accels(time_step, accels, osc_freqs, osc_damping)\n",
        "\n",
        "# Create a plot!\n",
        "fig, ax = plt.subplots()\n",
        "\n",
        "ax.plot(1/resp_spec.osc_freq, resp_spec.spec_accel)\n",
        "\n",
        "ax.set(\n",
        "    xlabel='Frequency (Hz)',\n",
        "    #xscale='log',\n",
        "    ylabel='5%-Damped Spectral Accel. (g)',)\n",
        "    #yscale='log', )\n",
        "ax.grid()\n",
        "fig.tight_layout()\n",
        "plt.show(fig)"
      ],
      "execution_count": 28,
      "outputs": [
        {
          "output_type": "display_data",
          "data": {
            "image/png": "[encoded data removed]",
            "text/plain": [
              "<Figure size 432x288 with 1 Axes>"
            ]
          },
          "metadata": {
            "tags": []
          }
        }
      ]
    }
  ]
}